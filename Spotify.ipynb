{
  "nbformat": 4,
  "nbformat_minor": 0,
  "metadata": {
    "colab": {
      "provenance": []
    },
    "kernelspec": {
      "name": "python3",
      "display_name": "Python 3"
    },
    "language_info": {
      "name": "python"
    }
  },
  "cells": [
    {
      "cell_type": "code",
      "execution_count": 212,
      "metadata": {
        "id": "CYptN2RwilKb"
      },
      "outputs": [],
      "source": [
        "from google.colab import files\n",
        "import numpy as np\n",
        "import pandas as pd\n",
        "import seaborn as sns\n",
        "from matplotlib import pyplot as plt\n",
        "import missingno as msno\n",
        "import warnings"
      ]
    },
    {
      "cell_type": "code",
      "source": [
        "files.upload()"
      ],
      "metadata": {
        "id": "YdB1BJdmirPq"
      },
      "execution_count": null,
      "outputs": []
    },
    {
      "cell_type": "code",
      "source": [
        "import eda as eda\n",
        "\n"
      ],
      "metadata": {
        "id": "--6PKFajis7c"
      },
      "execution_count": 214,
      "outputs": []
    },
    {
      "cell_type": "code",
      "source": [
        "df=pd.read_csv(\"/Colab/3_spotify.csv\")\n"
      ],
      "metadata": {
        "id": "ASF7mWcDjRO2"
      },
      "execution_count": 215,
      "outputs": []
    },
    {
      "cell_type": "code",
      "source": [
        "eda.upper_col_name(df)"
      ],
      "metadata": {
        "colab": {
          "base_uri": "https://localhost:8080/",
          "height": 990
        },
        "id": "Cysz3pMMlhsL",
        "outputId": "c9668c8d-c161-40c6-c66e-245f53d67a2e"
      },
      "execution_count": 216,
      "outputs": [
        {
          "output_type": "execute_result",
          "data": {
            "text/plain": [
              "                     TRACK_ID                                         TRACK_NAME      TRACK_ARTIST  TRACK_POPULARITY          TRACK_ALBUM_ID  \\\n",
              "0      6f807x0ima9a1j3VPbc7VN  I Don't Care (with Justin Bieber) - Loud Luxur...        Ed Sheeran                66  2oCs0DGTsRO98Gh5ZSl2Cx   \n",
              "1      0r7CVbZTWZgbTCYdfa2P31                    Memories - Dillon Francis Remix          Maroon 5                67  63rPSO264uRjW1X5E6cWv6   \n",
              "2      1z1Hg7Vb0AhHDiEmnDE79l                    All the Time - Don Diablo Remix      Zara Larsson                70  1HoSmj2eLcsrR0vE9gThr4   \n",
              "3      75FpbthrwQmzHlBJLuGdC7                  Call You Mine - Keanu Silva Remix  The Chainsmokers                60  1nqYsOef1yKKuGOVchbsk6   \n",
              "4      1e8PAfcKUYoKkxPhrHqw4x            Someone You Loved - Future Humans Remix     Lewis Capaldi                69  7m7vv9wlQ4i0LFuJiE2zsQ   \n",
              "...                       ...                                                ...               ...               ...                     ...   \n",
              "32828  7bxnKAamR3snQ1VGLuVfC1               City Of Lights - Official Radio Edit      Lush & Simon                42  2azRoBBWEEEYhqV6sb7JrT   \n",
              "32829  5Aevni09Em4575077nkWHz                Closer - Sultan & Ned Shepard Remix    Tegan and Sara                20  6kD6KLxj7s8eCE3ABvAyf5   \n",
              "32830  7ImMqPP3Q1yfUHvsdn7wEo                       Sweet Surrender - Radio Edit       Starkillers                14  0ltWNSY9JgxoIZO4VzuCa6   \n",
              "32831  2m69mhnfQ1Oq6lGtXuYhgX                     Only For You - Maor Levi Remix            Mat Zo                15  1fGrOkHnHJcStl14zNx8Jy   \n",
              "32832  29zWqhca3zt5NsckZqDf6c                             Typhoon - Original Mix      Julian Calor                27  0X3mUOm6MhxR7PzxG95rAo   \n",
              "\n",
              "                                        TRACK_ALBUM_NAME TRACK_ALBUM_RELEASE_DATE    PLAYLIST_NAME             PLAYLIST_ID PLAYLIST_GENRE          PLAYLIST_SUBGENRE  \\\n",
              "0      I Don't Care (with Justin Bieber) [Loud Luxury...               2019-06-14        Pop Remix  37i9dQZF1DXcZDD7cfEKhW            pop                  dance pop   \n",
              "1                        Memories (Dillon Francis Remix)               2019-12-13        Pop Remix  37i9dQZF1DXcZDD7cfEKhW            pop                  dance pop   \n",
              "2                        All the Time (Don Diablo Remix)               2019-07-05        Pop Remix  37i9dQZF1DXcZDD7cfEKhW            pop                  dance pop   \n",
              "3                            Call You Mine - The Remixes               2019-07-19        Pop Remix  37i9dQZF1DXcZDD7cfEKhW            pop                  dance pop   \n",
              "4                Someone You Loved (Future Humans Remix)               2019-03-05        Pop Remix  37i9dQZF1DXcZDD7cfEKhW            pop                  dance pop   \n",
              "...                                                  ...                      ...              ...                     ...            ...                        ...   \n",
              "32828                         City Of Lights (Vocal Mix)               2014-04-28  ♥ EDM LOVE 2020  6jI1gFr6ANFtT8MmTvA2Ux            edm  progressive electro house   \n",
              "32829                                     Closer Remixed               2013-03-08  ♥ EDM LOVE 2020  6jI1gFr6ANFtT8MmTvA2Ux            edm  progressive electro house   \n",
              "32830                       Sweet Surrender (Radio Edit)               2014-04-21  ♥ EDM LOVE 2020  6jI1gFr6ANFtT8MmTvA2Ux            edm  progressive electro house   \n",
              "32831                             Only For You (Remixes)               2014-01-01  ♥ EDM LOVE 2020  6jI1gFr6ANFtT8MmTvA2Ux            edm  progressive electro house   \n",
              "32832                                      Typhoon/Storm               2014-03-03  ♥ EDM LOVE 2020  6jI1gFr6ANFtT8MmTvA2Ux            edm  progressive electro house   \n",
              "\n",
              "       DANCEABILITY  ENERGY  KEY  LOUDNESS  MODE  SPEECHINESS  ACOUSTICNESS  INSTRUMENTALNESS  LIVENESS  VALENCE   TEMPO  DURATION_MS  \n",
              "0             0.748   0.916    6    -2.634     1        0.058         0.102             0.000     0.065    0.518 122.036       194754  \n",
              "1             0.726   0.815   11    -4.969     1        0.037         0.072             0.004     0.357    0.693  99.972       162600  \n",
              "2             0.675   0.931    1    -3.432     0        0.074         0.079             0.000     0.110    0.613 124.008       176616  \n",
              "3             0.718   0.930    7    -3.778     1        0.102         0.029             0.000     0.204    0.277 121.956       169093  \n",
              "4             0.650   0.833    1    -4.672     1        0.036         0.080             0.000     0.083    0.725 123.976       189052  \n",
              "...             ...     ...  ...       ...   ...          ...           ...               ...       ...      ...     ...          ...  \n",
              "32828         0.428   0.922    2    -1.814     1        0.094         0.077             0.000     0.067    0.210 128.170       204375  \n",
              "32829         0.522   0.786    0    -4.462     1        0.042         0.002             0.004     0.375    0.400 128.041       353120  \n",
              "32830         0.529   0.821    6    -4.899     0        0.048         0.108             0.000     0.150    0.436 127.989       210112  \n",
              "32831         0.626   0.888    2    -3.361     1        0.109         0.008             0.127     0.343    0.308 128.008       367432  \n",
              "32832         0.603   0.884    5    -4.571     0        0.038         0.000             0.341     0.742    0.089 127.984       337500  \n",
              "\n",
              "[32833 rows x 23 columns]"
            ],
            "text/html": [
              "\n",
              "  <div id=\"df-a6a49e12-ac3d-4b70-806c-be82d282d55b\">\n",
              "    <div class=\"colab-df-container\">\n",
              "      <div>\n",
              "<style scoped>\n",
              "    .dataframe tbody tr th:only-of-type {\n",
              "        vertical-align: middle;\n",
              "    }\n",
              "\n",
              "    .dataframe tbody tr th {\n",
              "        vertical-align: top;\n",
              "    }\n",
              "\n",
              "    .dataframe thead th {\n",
              "        text-align: right;\n",
              "    }\n",
              "</style>\n",
              "<table border=\"1\" class=\"dataframe\">\n",
              "  <thead>\n",
              "    <tr style=\"text-align: right;\">\n",
              "      <th></th>\n",
              "      <th>TRACK_ID</th>\n",
              "      <th>TRACK_NAME</th>\n",
              "      <th>TRACK_ARTIST</th>\n",
              "      <th>TRACK_POPULARITY</th>\n",
              "      <th>TRACK_ALBUM_ID</th>\n",
              "      <th>TRACK_ALBUM_NAME</th>\n",
              "      <th>TRACK_ALBUM_RELEASE_DATE</th>\n",
              "      <th>PLAYLIST_NAME</th>\n",
              "      <th>PLAYLIST_ID</th>\n",
              "      <th>PLAYLIST_GENRE</th>\n",
              "      <th>PLAYLIST_SUBGENRE</th>\n",
              "      <th>DANCEABILITY</th>\n",
              "      <th>ENERGY</th>\n",
              "      <th>KEY</th>\n",
              "      <th>LOUDNESS</th>\n",
              "      <th>MODE</th>\n",
              "      <th>SPEECHINESS</th>\n",
              "      <th>ACOUSTICNESS</th>\n",
              "      <th>INSTRUMENTALNESS</th>\n",
              "      <th>LIVENESS</th>\n",
              "      <th>VALENCE</th>\n",
              "      <th>TEMPO</th>\n",
              "      <th>DURATION_MS</th>\n",
              "    </tr>\n",
              "  </thead>\n",
              "  <tbody>\n",
              "    <tr>\n",
              "      <th>0</th>\n",
              "      <td>6f807x0ima9a1j3VPbc7VN</td>\n",
              "      <td>I Don't Care (with Justin Bieber) - Loud Luxur...</td>\n",
              "      <td>Ed Sheeran</td>\n",
              "      <td>66</td>\n",
              "      <td>2oCs0DGTsRO98Gh5ZSl2Cx</td>\n",
              "      <td>I Don't Care (with Justin Bieber) [Loud Luxury...</td>\n",
              "      <td>2019-06-14</td>\n",
              "      <td>Pop Remix</td>\n",
              "      <td>37i9dQZF1DXcZDD7cfEKhW</td>\n",
              "      <td>pop</td>\n",
              "      <td>dance pop</td>\n",
              "      <td>0.748</td>\n",
              "      <td>0.916</td>\n",
              "      <td>6</td>\n",
              "      <td>-2.634</td>\n",
              "      <td>1</td>\n",
              "      <td>0.058</td>\n",
              "      <td>0.102</td>\n",
              "      <td>0.000</td>\n",
              "      <td>0.065</td>\n",
              "      <td>0.518</td>\n",
              "      <td>122.036</td>\n",
              "      <td>194754</td>\n",
              "    </tr>\n",
              "    <tr>\n",
              "      <th>1</th>\n",
              "      <td>0r7CVbZTWZgbTCYdfa2P31</td>\n",
              "      <td>Memories - Dillon Francis Remix</td>\n",
              "      <td>Maroon 5</td>\n",
              "      <td>67</td>\n",
              "      <td>63rPSO264uRjW1X5E6cWv6</td>\n",
              "      <td>Memories (Dillon Francis Remix)</td>\n",
              "      <td>2019-12-13</td>\n",
              "      <td>Pop Remix</td>\n",
              "      <td>37i9dQZF1DXcZDD7cfEKhW</td>\n",
              "      <td>pop</td>\n",
              "      <td>dance pop</td>\n",
              "      <td>0.726</td>\n",
              "      <td>0.815</td>\n",
              "      <td>11</td>\n",
              "      <td>-4.969</td>\n",
              "      <td>1</td>\n",
              "      <td>0.037</td>\n",
              "      <td>0.072</td>\n",
              "      <td>0.004</td>\n",
              "      <td>0.357</td>\n",
              "      <td>0.693</td>\n",
              "      <td>99.972</td>\n",
              "      <td>162600</td>\n",
              "    </tr>\n",
              "    <tr>\n",
              "      <th>2</th>\n",
              "      <td>1z1Hg7Vb0AhHDiEmnDE79l</td>\n",
              "      <td>All the Time - Don Diablo Remix</td>\n",
              "      <td>Zara Larsson</td>\n",
              "      <td>70</td>\n",
              "      <td>1HoSmj2eLcsrR0vE9gThr4</td>\n",
              "      <td>All the Time (Don Diablo Remix)</td>\n",
              "      <td>2019-07-05</td>\n",
              "      <td>Pop Remix</td>\n",
              "      <td>37i9dQZF1DXcZDD7cfEKhW</td>\n",
              "      <td>pop</td>\n",
              "      <td>dance pop</td>\n",
              "      <td>0.675</td>\n",
              "      <td>0.931</td>\n",
              "      <td>1</td>\n",
              "      <td>-3.432</td>\n",
              "      <td>0</td>\n",
              "      <td>0.074</td>\n",
              "      <td>0.079</td>\n",
              "      <td>0.000</td>\n",
              "      <td>0.110</td>\n",
              "      <td>0.613</td>\n",
              "      <td>124.008</td>\n",
              "      <td>176616</td>\n",
              "    </tr>\n",
              "    <tr>\n",
              "      <th>3</th>\n",
              "      <td>75FpbthrwQmzHlBJLuGdC7</td>\n",
              "      <td>Call You Mine - Keanu Silva Remix</td>\n",
              "      <td>The Chainsmokers</td>\n",
              "      <td>60</td>\n",
              "      <td>1nqYsOef1yKKuGOVchbsk6</td>\n",
              "      <td>Call You Mine - The Remixes</td>\n",
              "      <td>2019-07-19</td>\n",
              "      <td>Pop Remix</td>\n",
              "      <td>37i9dQZF1DXcZDD7cfEKhW</td>\n",
              "      <td>pop</td>\n",
              "      <td>dance pop</td>\n",
              "      <td>0.718</td>\n",
              "      <td>0.930</td>\n",
              "      <td>7</td>\n",
              "      <td>-3.778</td>\n",
              "      <td>1</td>\n",
              "      <td>0.102</td>\n",
              "      <td>0.029</td>\n",
              "      <td>0.000</td>\n",
              "      <td>0.204</td>\n",
              "      <td>0.277</td>\n",
              "      <td>121.956</td>\n",
              "      <td>169093</td>\n",
              "    </tr>\n",
              "    <tr>\n",
              "      <th>4</th>\n",
              "      <td>1e8PAfcKUYoKkxPhrHqw4x</td>\n",
              "      <td>Someone You Loved - Future Humans Remix</td>\n",
              "      <td>Lewis Capaldi</td>\n",
              "      <td>69</td>\n",
              "      <td>7m7vv9wlQ4i0LFuJiE2zsQ</td>\n",
              "      <td>Someone You Loved (Future Humans Remix)</td>\n",
              "      <td>2019-03-05</td>\n",
              "      <td>Pop Remix</td>\n",
              "      <td>37i9dQZF1DXcZDD7cfEKhW</td>\n",
              "      <td>pop</td>\n",
              "      <td>dance pop</td>\n",
              "      <td>0.650</td>\n",
              "      <td>0.833</td>\n",
              "      <td>1</td>\n",
              "      <td>-4.672</td>\n",
              "      <td>1</td>\n",
              "      <td>0.036</td>\n",
              "      <td>0.080</td>\n",
              "      <td>0.000</td>\n",
              "      <td>0.083</td>\n",
              "      <td>0.725</td>\n",
              "      <td>123.976</td>\n",
              "      <td>189052</td>\n",
              "    </tr>\n",
              "    <tr>\n",
              "      <th>...</th>\n",
              "      <td>...</td>\n",
              "      <td>...</td>\n",
              "      <td>...</td>\n",
              "      <td>...</td>\n",
              "      <td>...</td>\n",
              "      <td>...</td>\n",
              "      <td>...</td>\n",
              "      <td>...</td>\n",
              "      <td>...</td>\n",
              "      <td>...</td>\n",
              "      <td>...</td>\n",
              "      <td>...</td>\n",
              "      <td>...</td>\n",
              "      <td>...</td>\n",
              "      <td>...</td>\n",
              "      <td>...</td>\n",
              "      <td>...</td>\n",
              "      <td>...</td>\n",
              "      <td>...</td>\n",
              "      <td>...</td>\n",
              "      <td>...</td>\n",
              "      <td>...</td>\n",
              "      <td>...</td>\n",
              "    </tr>\n",
              "    <tr>\n",
              "      <th>32828</th>\n",
              "      <td>7bxnKAamR3snQ1VGLuVfC1</td>\n",
              "      <td>City Of Lights - Official Radio Edit</td>\n",
              "      <td>Lush &amp; Simon</td>\n",
              "      <td>42</td>\n",
              "      <td>2azRoBBWEEEYhqV6sb7JrT</td>\n",
              "      <td>City Of Lights (Vocal Mix)</td>\n",
              "      <td>2014-04-28</td>\n",
              "      <td>♥ EDM LOVE 2020</td>\n",
              "      <td>6jI1gFr6ANFtT8MmTvA2Ux</td>\n",
              "      <td>edm</td>\n",
              "      <td>progressive electro house</td>\n",
              "      <td>0.428</td>\n",
              "      <td>0.922</td>\n",
              "      <td>2</td>\n",
              "      <td>-1.814</td>\n",
              "      <td>1</td>\n",
              "      <td>0.094</td>\n",
              "      <td>0.077</td>\n",
              "      <td>0.000</td>\n",
              "      <td>0.067</td>\n",
              "      <td>0.210</td>\n",
              "      <td>128.170</td>\n",
              "      <td>204375</td>\n",
              "    </tr>\n",
              "    <tr>\n",
              "      <th>32829</th>\n",
              "      <td>5Aevni09Em4575077nkWHz</td>\n",
              "      <td>Closer - Sultan &amp; Ned Shepard Remix</td>\n",
              "      <td>Tegan and Sara</td>\n",
              "      <td>20</td>\n",
              "      <td>6kD6KLxj7s8eCE3ABvAyf5</td>\n",
              "      <td>Closer Remixed</td>\n",
              "      <td>2013-03-08</td>\n",
              "      <td>♥ EDM LOVE 2020</td>\n",
              "      <td>6jI1gFr6ANFtT8MmTvA2Ux</td>\n",
              "      <td>edm</td>\n",
              "      <td>progressive electro house</td>\n",
              "      <td>0.522</td>\n",
              "      <td>0.786</td>\n",
              "      <td>0</td>\n",
              "      <td>-4.462</td>\n",
              "      <td>1</td>\n",
              "      <td>0.042</td>\n",
              "      <td>0.002</td>\n",
              "      <td>0.004</td>\n",
              "      <td>0.375</td>\n",
              "      <td>0.400</td>\n",
              "      <td>128.041</td>\n",
              "      <td>353120</td>\n",
              "    </tr>\n",
              "    <tr>\n",
              "      <th>32830</th>\n",
              "      <td>7ImMqPP3Q1yfUHvsdn7wEo</td>\n",
              "      <td>Sweet Surrender - Radio Edit</td>\n",
              "      <td>Starkillers</td>\n",
              "      <td>14</td>\n",
              "      <td>0ltWNSY9JgxoIZO4VzuCa6</td>\n",
              "      <td>Sweet Surrender (Radio Edit)</td>\n",
              "      <td>2014-04-21</td>\n",
              "      <td>♥ EDM LOVE 2020</td>\n",
              "      <td>6jI1gFr6ANFtT8MmTvA2Ux</td>\n",
              "      <td>edm</td>\n",
              "      <td>progressive electro house</td>\n",
              "      <td>0.529</td>\n",
              "      <td>0.821</td>\n",
              "      <td>6</td>\n",
              "      <td>-4.899</td>\n",
              "      <td>0</td>\n",
              "      <td>0.048</td>\n",
              "      <td>0.108</td>\n",
              "      <td>0.000</td>\n",
              "      <td>0.150</td>\n",
              "      <td>0.436</td>\n",
              "      <td>127.989</td>\n",
              "      <td>210112</td>\n",
              "    </tr>\n",
              "    <tr>\n",
              "      <th>32831</th>\n",
              "      <td>2m69mhnfQ1Oq6lGtXuYhgX</td>\n",
              "      <td>Only For You - Maor Levi Remix</td>\n",
              "      <td>Mat Zo</td>\n",
              "      <td>15</td>\n",
              "      <td>1fGrOkHnHJcStl14zNx8Jy</td>\n",
              "      <td>Only For You (Remixes)</td>\n",
              "      <td>2014-01-01</td>\n",
              "      <td>♥ EDM LOVE 2020</td>\n",
              "      <td>6jI1gFr6ANFtT8MmTvA2Ux</td>\n",
              "      <td>edm</td>\n",
              "      <td>progressive electro house</td>\n",
              "      <td>0.626</td>\n",
              "      <td>0.888</td>\n",
              "      <td>2</td>\n",
              "      <td>-3.361</td>\n",
              "      <td>1</td>\n",
              "      <td>0.109</td>\n",
              "      <td>0.008</td>\n",
              "      <td>0.127</td>\n",
              "      <td>0.343</td>\n",
              "      <td>0.308</td>\n",
              "      <td>128.008</td>\n",
              "      <td>367432</td>\n",
              "    </tr>\n",
              "    <tr>\n",
              "      <th>32832</th>\n",
              "      <td>29zWqhca3zt5NsckZqDf6c</td>\n",
              "      <td>Typhoon - Original Mix</td>\n",
              "      <td>Julian Calor</td>\n",
              "      <td>27</td>\n",
              "      <td>0X3mUOm6MhxR7PzxG95rAo</td>\n",
              "      <td>Typhoon/Storm</td>\n",
              "      <td>2014-03-03</td>\n",
              "      <td>♥ EDM LOVE 2020</td>\n",
              "      <td>6jI1gFr6ANFtT8MmTvA2Ux</td>\n",
              "      <td>edm</td>\n",
              "      <td>progressive electro house</td>\n",
              "      <td>0.603</td>\n",
              "      <td>0.884</td>\n",
              "      <td>5</td>\n",
              "      <td>-4.571</td>\n",
              "      <td>0</td>\n",
              "      <td>0.038</td>\n",
              "      <td>0.000</td>\n",
              "      <td>0.341</td>\n",
              "      <td>0.742</td>\n",
              "      <td>0.089</td>\n",
              "      <td>127.984</td>\n",
              "      <td>337500</td>\n",
              "    </tr>\n",
              "  </tbody>\n",
              "</table>\n",
              "<p>32833 rows × 23 columns</p>\n",
              "</div>\n",
              "      <button class=\"colab-df-convert\" onclick=\"convertToInteractive('df-a6a49e12-ac3d-4b70-806c-be82d282d55b')\"\n",
              "              title=\"Convert this dataframe to an interactive table.\"\n",
              "              style=\"display:none;\">\n",
              "        \n",
              "  <svg xmlns=\"http://www.w3.org/2000/svg\" height=\"24px\"viewBox=\"0 0 24 24\"\n",
              "       width=\"24px\">\n",
              "    <path d=\"M0 0h24v24H0V0z\" fill=\"none\"/>\n",
              "    <path d=\"M18.56 5.44l.94 2.06.94-2.06 2.06-.94-2.06-.94-.94-2.06-.94 2.06-2.06.94zm-11 1L8.5 8.5l.94-2.06 2.06-.94-2.06-.94L8.5 2.5l-.94 2.06-2.06.94zm10 10l.94 2.06.94-2.06 2.06-.94-2.06-.94-.94-2.06-.94 2.06-2.06.94z\"/><path d=\"M17.41 7.96l-1.37-1.37c-.4-.4-.92-.59-1.43-.59-.52 0-1.04.2-1.43.59L10.3 9.45l-7.72 7.72c-.78.78-.78 2.05 0 2.83L4 21.41c.39.39.9.59 1.41.59.51 0 1.02-.2 1.41-.59l7.78-7.78 2.81-2.81c.8-.78.8-2.07 0-2.86zM5.41 20L4 18.59l7.72-7.72 1.47 1.35L5.41 20z\"/>\n",
              "  </svg>\n",
              "      </button>\n",
              "      \n",
              "  <style>\n",
              "    .colab-df-container {\n",
              "      display:flex;\n",
              "      flex-wrap:wrap;\n",
              "      gap: 12px;\n",
              "    }\n",
              "\n",
              "    .colab-df-convert {\n",
              "      background-color: #E8F0FE;\n",
              "      border: none;\n",
              "      border-radius: 50%;\n",
              "      cursor: pointer;\n",
              "      display: none;\n",
              "      fill: #1967D2;\n",
              "      height: 32px;\n",
              "      padding: 0 0 0 0;\n",
              "      width: 32px;\n",
              "    }\n",
              "\n",
              "    .colab-df-convert:hover {\n",
              "      background-color: #E2EBFA;\n",
              "      box-shadow: 0px 1px 2px rgba(60, 64, 67, 0.3), 0px 1px 3px 1px rgba(60, 64, 67, 0.15);\n",
              "      fill: #174EA6;\n",
              "    }\n",
              "\n",
              "    [theme=dark] .colab-df-convert {\n",
              "      background-color: #3B4455;\n",
              "      fill: #D2E3FC;\n",
              "    }\n",
              "\n",
              "    [theme=dark] .colab-df-convert:hover {\n",
              "      background-color: #434B5C;\n",
              "      box-shadow: 0px 1px 3px 1px rgba(0, 0, 0, 0.15);\n",
              "      filter: drop-shadow(0px 1px 2px rgba(0, 0, 0, 0.3));\n",
              "      fill: #FFFFFF;\n",
              "    }\n",
              "  </style>\n",
              "\n",
              "      <script>\n",
              "        const buttonEl =\n",
              "          document.querySelector('#df-a6a49e12-ac3d-4b70-806c-be82d282d55b button.colab-df-convert');\n",
              "        buttonEl.style.display =\n",
              "          google.colab.kernel.accessAllowed ? 'block' : 'none';\n",
              "\n",
              "        async function convertToInteractive(key) {\n",
              "          const element = document.querySelector('#df-a6a49e12-ac3d-4b70-806c-be82d282d55b');\n",
              "          const dataTable =\n",
              "            await google.colab.kernel.invokeFunction('convertToInteractive',\n",
              "                                                     [key], {});\n",
              "          if (!dataTable) return;\n",
              "\n",
              "          const docLinkHtml = 'Like what you see? Visit the ' +\n",
              "            '<a target=\"_blank\" href=https://colab.research.google.com/notebooks/data_table.ipynb>data table notebook</a>'\n",
              "            + ' to learn more about interactive tables.';\n",
              "          element.innerHTML = '';\n",
              "          dataTable['output_type'] = 'display_data';\n",
              "          await google.colab.output.renderOutput(dataTable, element);\n",
              "          const docLink = document.createElement('div');\n",
              "          docLink.innerHTML = docLinkHtml;\n",
              "          element.appendChild(docLink);\n",
              "        }\n",
              "      </script>\n",
              "    </div>\n",
              "  </div>\n",
              "  "
            ]
          },
          "metadata": {},
          "execution_count": 216
        }
      ]
    },
    {
      "cell_type": "markdown",
      "source": [
        "**YORUM: Bu veri seti Spotify uygulamasında bulunan müziklerin isimlerini, sanatçılarını, popüleritesini, türünü gibi birçok özelliklerini içeren verileri barındırmaktadır.**"
      ],
      "metadata": {
        "id": "UDOi9QeyoVjx"
      }
    },
    {
      "cell_type": "code",
      "source": [
        "df.info() "
      ],
      "metadata": {
        "colab": {
          "base_uri": "https://localhost:8080/"
        },
        "id": "HPWdYpBBotEU",
        "outputId": "241813f3-fd95-4f59-bf31-553bd9985691"
      },
      "execution_count": 217,
      "outputs": [
        {
          "output_type": "stream",
          "name": "stdout",
          "text": [
            "<class 'pandas.core.frame.DataFrame'>\n",
            "RangeIndex: 32833 entries, 0 to 32832\n",
            "Data columns (total 23 columns):\n",
            " #   Column                    Non-Null Count  Dtype  \n",
            "---  ------                    --------------  -----  \n",
            " 0   TRACK_ID                  32833 non-null  object \n",
            " 1   TRACK_NAME                32828 non-null  object \n",
            " 2   TRACK_ARTIST              32828 non-null  object \n",
            " 3   TRACK_POPULARITY          32833 non-null  int64  \n",
            " 4   TRACK_ALBUM_ID            32833 non-null  object \n",
            " 5   TRACK_ALBUM_NAME          32828 non-null  object \n",
            " 6   TRACK_ALBUM_RELEASE_DATE  32833 non-null  object \n",
            " 7   PLAYLIST_NAME             32833 non-null  object \n",
            " 8   PLAYLIST_ID               32833 non-null  object \n",
            " 9   PLAYLIST_GENRE            32833 non-null  object \n",
            " 10  PLAYLIST_SUBGENRE         32833 non-null  object \n",
            " 11  DANCEABILITY              32833 non-null  float64\n",
            " 12  ENERGY                    32833 non-null  float64\n",
            " 13  KEY                       32833 non-null  int64  \n",
            " 14  LOUDNESS                  32833 non-null  float64\n",
            " 15  MODE                      32833 non-null  int64  \n",
            " 16  SPEECHINESS               32833 non-null  float64\n",
            " 17  ACOUSTICNESS              32833 non-null  float64\n",
            " 18  INSTRUMENTALNESS          32833 non-null  float64\n",
            " 19  LIVENESS                  32833 non-null  float64\n",
            " 20  VALENCE                   32833 non-null  float64\n",
            " 21  TEMPO                     32833 non-null  float64\n",
            " 22  DURATION_MS               32833 non-null  int64  \n",
            "dtypes: float64(9), int64(4), object(10)\n",
            "memory usage: 5.8+ MB\n"
          ]
        }
      ]
    },
    {
      "cell_type": "code",
      "source": [
        "eda.cat_summary(df,\"PLAYLIST_GENRE\",plot=True)"
      ],
      "metadata": {
        "colab": {
          "base_uri": "https://localhost:8080/",
          "height": 433
        },
        "id": "cjGJewcPzOaZ",
        "outputId": "00b3832b-904f-4887-f74a-ec81b539690d"
      },
      "execution_count": 218,
      "outputs": [
        {
          "output_type": "stream",
          "name": "stdout",
          "text": [
            "       PLAYLIST_GENRE  Ratio\n",
            "edm              6043 18.405\n",
            "rap              5746 17.501\n",
            "pop              5507 16.773\n",
            "r&b              5431 16.541\n",
            "latin            5155 15.701\n",
            "rock             4951 15.079\n",
            "##########################################\n"
          ]
        },
        {
          "output_type": "display_data",
          "data": {
            "text/plain": [
              "<Figure size 432x288 with 1 Axes>"
            ],
            "image/png": "[encoded data removed]"
          },
          "metadata": {}
        }
      ]
    },
    {
      "cell_type": "markdown",
      "source": [
        "**Spotify'da en fazla bulunan müzik türü Electro Dance Music türüdür. İkinci tür ise RAP türüdür, onun arkasında da POP takip etmektedir.**"
      ],
      "metadata": {
        "id": "InI9s7qCz2aD"
      }
    },
    {
      "cell_type": "code",
      "source": [
        "df[\"PLAYLIST_SUBGENRE\"].hist(bins=50)\n",
        "plt.xticks(rotation='vertical')\n",
        "plt.xlabel(\"Alt Türler\")\n",
        "plt.ylabel(\"Frekans\")\n",
        "plt.title(\"Spotify Müzik Türleri Frekansı Grafiği\")\n",
        "plt.figure(figsize=(10,10))\n",
        "plt.show()"
      ],
      "metadata": {
        "colab": {
          "base_uri": "https://localhost:8080/",
          "height": 452
        },
        "id": "KWBxMkfgzkkB",
        "outputId": "cd04a4a6-6e3e-4959-9d34-35d00e162f3e"
      },
      "execution_count": 234,
      "outputs": [
        {
          "output_type": "display_data",
          "data": {
            "text/plain": [
              "<Figure size 432x288 with 1 Axes>"
            ],
            "image/png": "[encoded data removed]"
          },
          "metadata": {}
        },
        {
          "output_type": "display_data",
          "data": {
            "text/plain": [
              "<Figure size 720x720 with 0 Axes>"
            ]
          },
          "metadata": {}
        }
      ]
    },
    {
      "cell_type": "markdown",
      "source": [
        "**YORUM:En fazla bulunan alt müzik türü \"progressive electro house\" müzik türüdür. En az bulunan alt müzik türü ise \"reggaeton\" türüdür.**"
      ],
      "metadata": {
        "id": "qojoK0J05ca4"
      }
    },
    {
      "cell_type": "code",
      "source": [
        "files.upload()"
      ],
      "metadata": {
        "id": "BRSYNwDI53Vd"
      },
      "execution_count": null,
      "outputs": []
    },
    {
      "cell_type": "code",
      "source": [
        "import data_prep2 as prep"
      ],
      "metadata": {
        "id": "PPvXoCX56lnP"
      },
      "execution_count": 221,
      "outputs": []
    },
    {
      "cell_type": "code",
      "source": [
        "prep.outlier_thresholds(df,\"DURATION_MS\")"
      ],
      "metadata": {
        "colab": {
          "base_uri": "https://localhost:8080/"
        },
        "id": "Raz52e8z7Hk4",
        "outputId": "cf96a646-2d95-4fdf-f21a-c41ec3e896df"
      },
      "execution_count": 222,
      "outputs": [
        {
          "output_type": "execute_result",
          "data": {
            "text/plain": [
              "(-135113.00000000006, 620907.8)"
            ]
          },
          "metadata": {},
          "execution_count": 222
        }
      ]
    },
    {
      "cell_type": "code",
      "source": [
        "prep.check_outlier(df,\"DURATION_MS\")"
      ],
      "metadata": {
        "colab": {
          "base_uri": "https://localhost:8080/"
        },
        "id": "gYoQSg3l9Iy5",
        "outputId": "157089a6-be68-47a5-fb06-567b56c80f58"
      },
      "execution_count": 223,
      "outputs": [
        {
          "output_type": "execute_result",
          "data": {
            "text/plain": [
              "False"
            ]
          },
          "metadata": {},
          "execution_count": 223
        }
      ]
    },
    {
      "cell_type": "code",
      "source": [
        "prep.grab_outliers(df,\"DURATION_MS\")"
      ],
      "metadata": {
        "colab": {
          "base_uri": "https://localhost:8080/"
        },
        "id": "Rcc_kym59tLw",
        "outputId": "e2fb52ee-4577-41e1-d1bc-acc9e0d35da5"
      },
      "execution_count": 224,
      "outputs": [
        {
          "output_type": "stream",
          "name": "stdout",
          "text": [
            "Empty DataFrame\n",
            "Columns: [TRACK_ID, TRACK_NAME, TRACK_ARTIST, TRACK_POPULARITY, TRACK_ALBUM_ID, TRACK_ALBUM_NAME, TRACK_ALBUM_RELEASE_DATE, PLAYLIST_NAME, PLAYLIST_ID, PLAYLIST_GENRE, PLAYLIST_SUBGENRE, DANCEABILITY, ENERGY, KEY, LOUDNESS, MODE, SPEECHINESS, ACOUSTICNESS, INSTRUMENTALNESS, LIVENESS, VALENCE, TEMPO, DURATION_MS]\n",
            "Index: []\n"
          ]
        }
      ]
    },
    {
      "cell_type": "markdown",
      "source": [
        "**Müzik süresinde outliner değeri yoktur bu sebepten dolayı outliner kaldırma işlemi gerekmemektedir**"
      ],
      "metadata": {
        "id": "ZsIK2Ed9-LPy"
      }
    },
    {
      "cell_type": "code",
      "source": [
        "Eksik=prep.missing_values_table(df)"
      ],
      "metadata": {
        "colab": {
          "base_uri": "https://localhost:8080/"
        },
        "id": "L5rd-FI2-KYU",
        "outputId": "b143799e-f54a-4c6a-de77-be48cf86b21a"
      },
      "execution_count": 225,
      "outputs": [
        {
          "output_type": "stream",
          "name": "stdout",
          "text": [
            "                  n_miss  n_miss_ratio\n",
            "TRACK_NAME             5         0.015\n",
            "TRACK_ARTIST           5         0.015\n",
            "TRACK_ALBUM_NAME       5         0.015\n"
          ]
        }
      ]
    },
    {
      "cell_type": "markdown",
      "source": [
        "**Müzik ismi, sanatçı, albüm ismi değişkenlerinde beşer adet eksik değer vardır.**"
      ],
      "metadata": {
        "id": "lgX8Bwy3-nr_"
      }
    },
    {
      "cell_type": "code",
      "source": [
        "def graph(x,y,df):\n",
        "    sns.boxplot(x=x , y=y, data=df)\n",
        "\n",
        "    plt.figure(figsize=(10,10))\n",
        "\n",
        "    plt.show()\n",
        "graph(\"KEY\",\"LOUDNESS\",df)\n",
        "\n"
      ],
      "metadata": {
        "colab": {
          "base_uri": "https://localhost:8080/",
          "height": 303
        },
        "id": "ixPP2nkk-xEZ",
        "outputId": "c0d64979-efe2-46b3-849b-47e99d4b119b"
      },
      "execution_count": 226,
      "outputs": [
        {
          "output_type": "display_data",
          "data": {
            "text/plain": [
              "<Figure size 432x288 with 1 Axes>"
            ],
            "image/png": "[encoded data removed]"
          },
          "metadata": {}
        },
        {
          "output_type": "display_data",
          "data": {
            "text/plain": [
              "<Figure size 720x720 with 0 Axes>"
            ]
          },
          "metadata": {}
        }
      ]
    },
    {
      "cell_type": "code",
      "source": [],
      "metadata": {
        "id": "wQPg1h2L-4YC"
      },
      "execution_count": 226,
      "outputs": []
    }
  ]
}